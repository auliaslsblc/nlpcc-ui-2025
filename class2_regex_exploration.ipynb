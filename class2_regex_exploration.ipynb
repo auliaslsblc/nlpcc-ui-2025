{
  "nbformat": 4,
  "nbformat_minor": 0,
  "metadata": {
    "colab": {
      "provenance": [],
      "toc_visible": true,
      "authorship_tag": "ABX9TyMLE+00X3upHh5CTrxIjHCJ",
      "include_colab_link": true
    },
    "kernelspec": {
      "name": "python3",
      "display_name": "Python 3"
    },
    "language_info": {
      "name": "python"
    }
  },
  "cells": [
    {
      "cell_type": "markdown",
      "metadata": {
        "id": "view-in-github",
        "colab_type": "text"
      },
      "source": [
        "<a href=\"https://colab.research.google.com/github/auliaslsblc/nlpcc-ui-2025/blob/main/class2_regex_exploration.ipynb\" target=\"_parent\"><img src=\"https://colab.research.google.com/assets/colab-badge.svg\" alt=\"Open In Colab\"/></a>"
      ]
    },
    {
      "cell_type": "code",
      "execution_count": 12,
      "metadata": {
        "colab": {
          "base_uri": "https://localhost:8080/"
        },
        "id": "A_JFug-7iKwU",
        "outputId": "6329cdfd-7243-4427-cbed-3f9adec8e1f0"
      },
      "outputs": [
        {
          "output_type": "stream",
          "name": "stdout",
          "text": [
            "Mounted at /content/drive\n"
          ]
        }
      ],
      "source": [
        "from google.colab import drive\n",
        "drive.mount('/content/drive')"
      ]
    },
    {
      "cell_type": "code",
      "source": [
        "import pandas as pd\n",
        "path_file_csv = '/content/drive/MyDrive/drive/covid-sentiment.csv'\n",
        "df = pd.read_csv(path_file_csv)\n",
        "print(df.head())"
      ],
      "metadata": {
        "colab": {
          "base_uri": "https://localhost:8080/"
        },
        "id": "TuNrzJQlqzvR",
        "outputId": "14302280-413b-4797-a0c6-048d70954add"
      },
      "execution_count": 13,
      "outputs": [
        {
          "output_type": "stream",
          "name": "stdout",
          "text": [
            "       conversation_id        date      time              user_id  \\\n",
            "0  1258425982907637761  2020-05-07  23:58:29           1058474317   \n",
            "1  1258320972198940675  2020-05-07  23:57:30           1179769476   \n",
            "2  1258356644427083777  2020-05-07  23:53:20  1012156669831229441   \n",
            "3  1258424368993931265  2020-05-07  23:52:04  1204303690061844481   \n",
            "4  1258423545698246656  2020-05-07  23:48:48            227620381   \n",
            "\n",
            "        username                                              tweet  \\\n",
            "0   monologis_id   https://bit.ly/2L6CcbB  | Seharusnya saat ini...   \n",
            "1        its_dul  Klo kata gw Pemerintah tuh lagi menerapkan Her...   \n",
            "2     meonkbaong  Saat ini yang bisa saya lakukan hanya menyiapk...   \n",
            "3  rakyatdotnews  Satu Warga Positif Corona, Bupati: Kondisi ini...   \n",
            "4  annisathalib_  emosi bgt, lg kondisi begini gue disuruh liput...   \n",
            "\n",
            "          mentions  replies_count  retweets_count  likes_count  \\\n",
            "0               []              0               3            0   \n",
            "1  ['mas__piyuuu']              0               0            0   \n",
            "2      ['oiivert']              0               0            0   \n",
            "3               []              0               0            0   \n",
            "4               []              0               0            0   \n",
            "\n",
            "                                            hashtags  \n",
            "0                                                 []  \n",
            "1                                                 []  \n",
            "2                                                 []  \n",
            "3  ['#rakyatdotnews', '#referensiterkini', '#raky...  \n",
            "4                                    ['#dirumahaja']  \n"
          ]
        }
      ]
    },
    {
      "cell_type": "code",
      "source": [
        "# -*- coding: utf-8 -*-\n",
        "\"\"\"\n",
        "Kode Google Colab - Menambahkan Kolom Cek 'Covid-19' ke DataFrame\n",
        "\n",
        "Tujuan:\n",
        "1. Menambahkan kolom boolean baru ke DataFrame 'df'.\n",
        "2. Kolom ini bernilai True jika teks di kolom sumber mengandung 'Covid-19' atau 'covid-19'.\n",
        "3. Mencetak ringkasan jumlah kecocokan.\n",
        "\n",
        "ASUMSI: Anda SUDAH menjalankan sel sebelumnya yang berhasil memuat data\n",
        "Anda ke dalam DataFrame bernama 'df'.\n",
        "\"\"\"\n",
        "\n",
        "# Impor pustaka yang diperlukan\n",
        "import pandas as pd\n",
        "import re\n",
        "\n",
        "print(\"Memulai proses penambahan kolom cek 'Covid-19'...\")\n",
        "\n",
        "# --- !!! --- KONFIGURASI WAJIB --- !!! ---\n",
        "# GANTI NILAI 'content' DI BAWAH INI DENGAN NAMA KOLOM YANG BENAR DI 'df' ANDA\n",
        "# YANG BERISI TEKS BERITA ATAU TWEET UNTUK DIANALISIS.\n",
        "# Contoh lain yang mungkin: 'text', 'title', 'snippet', 'body', 'description'\n",
        "# Periksa output df.info() atau df.head() dari sel sebelumnya jika tidak yakin.\n",
        "\n",
        "nama_kolom_teks_sumber = 'tweet'  #\n",
        "\n",
        "# --- AKHIR KONFIGURASI WAJIB ---\n",
        "\n",
        "# Nama untuk kolom baru yang akan dibuat\n",
        "nama_kolom_baru_boolean = 'mengandung_Covid_spesifik'\n",
        "\n",
        "# Pola regex yang dicari: hanya \"Covid-19\" atau \"covid-19\"\n",
        "pola_regex_covid = r\"[Cc]ovid-19\"\n",
        "\n",
        "# Menggunakan blok try-except untuk menangani potensi error\n",
        "try:\n",
        "    # 1. Validasi Awal: Pastikan 'df' ada dan kolom teks sumber valid\n",
        "    if 'df' not in locals() or not isinstance(df, pd.DataFrame):\n",
        "        raise NameError(\"DataFrame 'df' tidak ditemukan. Mohon jalankan sel yang memuat data Anda terlebih dahulu.\")\n",
        "\n",
        "    if nama_kolom_teks_sumber not in df.columns:\n",
        "        print(f\"\\n--- ERROR ---\")\n",
        "        print(f\"Kolom '{nama_kolom_teks_sumber}' yang Anda tentukan TIDAK ADA di DataFrame 'df'.\")\n",
        "        print(f\"Kolom yang tersedia adalah: {list(df.columns)}\")\n",
        "        print(f\"\\n--> Silakan perbaiki nilai variabel 'nama_kolom_teks_sumber' di bagian atas kode ini dan jalankan ulang.\")\n",
        "        raise KeyError(f\"Nama kolom sumber '{nama_kolom_teks_sumber}' tidak valid.\")\n",
        "    else:\n",
        "        print(f\"\\n[Info] Menggunakan kolom '{nama_kolom_teks_sumber}' sebagai sumber teks.\")\n",
        "\n",
        "    # 2. Persiapan Kolom Teks\n",
        "    # Memastikan kolom adalah string dan menangani nilai kosong (NaN)\n",
        "    print(f\"[Info] Memproses kolom '{nama_kolom_teks_sumber}' (mengisi nilai kosong, konversi ke string)...\")\n",
        "    texts_series = df[nama_kolom_teks_sumber].fillna('').astype(str)\n",
        "    print(\"[Info] Persiapan kolom teks selesai.\")\n",
        "\n",
        "    # 3. Menerapkan Regex dan Membuat Kolom Baru\n",
        "    print(f\"[Info] Mencari pola r'{pola_regex_covid}' dan membuat kolom '{nama_kolom_baru_boolean}'...\")\n",
        "    df[nama_kolom_baru_boolean] = texts_series.str.contains(\n",
        "        pat=pola_regex_covid,\n",
        "        regex=True,  # Pastikan ini diperlakukan sebagai regex\n",
        "        na=False     # Anggap NaN sebagai False (tidak mengandung)\n",
        "    )\n",
        "    print(f\"[Info] Kolom '{nama_kolom_baru_boolean}' berhasil ditambahkan.\")\n",
        "\n",
        "    # 4. Menghitung Hasil\n",
        "    jumlah_cocok = df[nama_kolom_baru_boolean].sum()\n",
        "    jumlah_total = len(df)\n",
        "\n",
        "    # 5. Mencetak Ringkasan\n",
        "    print(\"\\n--- RINGKASAN ---\")\n",
        "    print(f\"Pola '{pola_regex_covid}' (mencari 'Covid-19' atau 'covid-19') ditemukan pada:\")\n",
        "    print(f\"-> {jumlah_cocok} baris\")\n",
        "    print(f\"-> Dari total {jumlah_total} baris dalam DataFrame.\")\n",
        "    print(\"-\" * 20)\n",
        "\n",
        "    # 6. Menampilkan Contoh Hasil (Opsional)\n",
        "    print(\"\\nContoh tampilan DataFrame dengan kolom baru (10 baris pertama):\")\n",
        "    # Menampilkan kolom teks sumber dan kolom boolean baru\n",
        "    print(df[[nama_kolom_teks_sumber, nama_kolom_baru_boolean]].head(10))\n",
        "\n",
        "    # Menampilkan contoh baris yang memang cocok (jika ada)\n",
        "    if jumlah_cocok > 0:\n",
        "        print(f\"\\nContoh baris yang cocok dengan pola (maks 5 baris):\")\n",
        "        # Menampilkan baris di mana kolom boolean baru adalah True\n",
        "        print(df[df[nama_kolom_baru_boolean]][[nama_kolom_teks_sumber, nama_kolom_baru_boolean]].head())\n",
        "    else:\n",
        "        # Pesan jika tidak ada baris yang cocok\n",
        "        print(f\"\\nTidak ditemukan baris yang cocok dengan pola '{pola_regex_covid}'.\")\n",
        "\n",
        "\n",
        "except NameError as ne:\n",
        "    print(f\"\\n--- ERROR NameError ---\")\n",
        "    print(f\"{ne}\")\n",
        "    print(\"Ini biasanya berarti DataFrame 'df' belum ada. Pastikan sel pemuatan data sudah dijalankan dengan sukses SEBELUM sel ini.\")\n",
        "except KeyError as ke:\n",
        "    print(f\"\\n--- ERROR KeyError ---\")\n",
        "    # Pesan error spesifik mengenai kolom salah sudah dicetak di atas\n",
        "    print(\"Eksekusi dihentikan. Mohon perbaiki nama kolom di bagian konfigurasi dan jalankan ulang.\")\n",
        "except Exception as e:\n",
        "    print(f\"\\n--- ERROR Tidak Terduga ---\")\n",
        "    print(f\"Terjadi error: {type(e).__name__} - {e}\")\n",
        "    print(\"Periksa kembali konfigurasi, data, atau jalankan ulang runtime Colab jika perlu.\")\n",
        "\n",
        "print(\"\\nProses penambahan kolom dan ringkasan selesai.\")"
      ],
      "metadata": {
        "colab": {
          "base_uri": "https://localhost:8080/"
        },
        "id": "HmsEpKD9OmFy",
        "outputId": "059bb29d-41e5-4bbd-a8a6-c11c48789d31"
      },
      "execution_count": 14,
      "outputs": [
        {
          "output_type": "stream",
          "name": "stdout",
          "text": [
            "Memulai proses penambahan kolom cek 'Covid-19'...\n",
            "\n",
            "[Info] Menggunakan kolom 'tweet' sebagai sumber teks.\n",
            "[Info] Memproses kolom 'tweet' (mengisi nilai kosong, konversi ke string)...\n",
            "[Info] Persiapan kolom teks selesai.\n",
            "[Info] Mencari pola r'[Cc]ovid-19' dan membuat kolom 'mengandung_Covid_spesifik'...\n",
            "[Info] Kolom 'mengandung_Covid_spesifik' berhasil ditambahkan.\n",
            "\n",
            "--- RINGKASAN ---\n",
            "Pola '[Cc]ovid-19' (mencari 'Covid-19' atau 'covid-19') ditemukan pada:\n",
            "-> 32650 baris\n",
            "-> Dari total 52959 baris dalam DataFrame.\n",
            "--------------------\n",
            "\n",
            "Contoh tampilan DataFrame dengan kolom baru (10 baris pertama):\n",
            "                                               tweet  \\\n",
            "0   https://bit.ly/2L6CcbB  | Seharusnya saat ini...   \n",
            "1  Klo kata gw Pemerintah tuh lagi menerapkan Her...   \n",
            "2  Saat ini yang bisa saya lakukan hanya menyiapk...   \n",
            "3  Satu Warga Positif Corona, Bupati: Kondisi ini...   \n",
            "4  emosi bgt, lg kondisi begini gue disuruh liput...   \n",
            "5  ANTISIPA penyebaran pandemi COVID-19 membutuhk...   \n",
            "6  Bang gimna pemerintah mau peduli RRC urus ABK ...   \n",
            "7  Updates terkini covid-19 (Kamis 07/05/2020)\\nS...   \n",
            "8  Lah pie iki?? \\nMenteri Keuangan Sri Mulyani m...   \n",
            "9  Masih bilang beruntung, ribuan warga mati & ba...   \n",
            "\n",
            "   mengandung_Covid_spesifik  \n",
            "0                      False  \n",
            "1                      False  \n",
            "2                      False  \n",
            "3                       True  \n",
            "4                      False  \n",
            "5                      False  \n",
            "6                      False  \n",
            "7                       True  \n",
            "8                       True  \n",
            "9                       True  \n",
            "\n",
            "Contoh baris yang cocok dengan pola (maks 5 baris):\n",
            "                                                tweet  \\\n",
            "3   Satu Warga Positif Corona, Bupati: Kondisi ini...   \n",
            "7   Updates terkini covid-19 (Kamis 07/05/2020)\\nS...   \n",
            "8   Lah pie iki?? \\nMenteri Keuangan Sri Mulyani m...   \n",
            "9   Masih bilang beruntung, ribuan warga mati & ba...   \n",
            "10  Yang berbahaya dari Covid-19 itu cara pemerint...   \n",
            "\n",
            "    mengandung_Covid_spesifik  \n",
            "3                        True  \n",
            "7                        True  \n",
            "8                        True  \n",
            "9                        True  \n",
            "10                       True  \n",
            "\n",
            "Proses penambahan kolom dan ringkasan selesai.\n"
          ]
        }
      ]
    }
  ]
}